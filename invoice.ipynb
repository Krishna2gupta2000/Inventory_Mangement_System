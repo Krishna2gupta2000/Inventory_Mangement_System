{
  "nbformat": 4,
  "nbformat_minor": 0,
  "metadata": {
    "colab": {
      "name": "Untitled3.ipynb",
      "provenance": [],
      "collapsed_sections": []
    },
    "kernelspec": {
      "name": "python3",
      "display_name": "Python 3"
    },
    "language_info": {
      "name": "python"
    }
  },
  "cells": [
    {
      "cell_type": "markdown",
      "metadata": {
        "id": "Qr9PN7uJ7vdH"
      },
      "source": [
        "# **IMS**\n",
        "## *Inventory Management System*\n",
        "TO Generate Invoice of Sales\n"
      ]
    },
    {
      "cell_type": "code",
      "metadata": {
        "id": "AdDCA47j8Bnt"
      },
      "source": [
        "import json\n",
        "\n",
        "sales_file= open(\"Sales.json\",\"r\")\n",
        "Sales = sales_file.read()\n",
        "Sales = json.loads(Sales)\n",
        "sales_file.close()\n",
        "\n",
        "\n",
        "\n"
      ],
      "execution_count": 34,
      "outputs": []
    },
    {
      "cell_type": "code",
      "metadata": {
        "colab": {
          "base_uri": "https://localhost:8080/"
        },
        "id": "pj6qyCKr8wi_",
        "outputId": "cde4656c-2019-489b-cedc-c5ccd8862905"
      },
      "source": [
        "Sales"
      ],
      "execution_count": 35,
      "outputs": [
        {
          "output_type": "execute_result",
          "data": {
            "text/plain": [
              "{'0': {'date': '2021-09-06 06:58:25.570636',\n",
              "  'items': [{'name': 'Classmate Pro blue', 'quantity': 1, 'total': 10.0}]}}"
            ]
          },
          "metadata": {},
          "execution_count": 35
        }
      ]
    },
    {
      "cell_type": "code",
      "metadata": {
        "id": "3OoPCtxA9AZV",
        "colab": {
          "base_uri": "https://localhost:8080/"
        },
        "outputId": "22d04274-3188-42e5-fdad-df7ceb52a069"
      },
      "source": [
        "#Menu for invoice generation\n",
        "\n",
        "print('<----------------------------------------- Welcome to Invoice Generator  --------------> \\n Input 1 To print particular Invoice \\n Input 2 To Print list of all Invoices')\n",
        "choice = int(input(\"Enter your Input : \"))\n"
      ],
      "execution_count": 36,
      "outputs": [
        {
          "name": "stdout",
          "output_type": "stream",
          "text": [
            "<----------------------------------------- Welcome to Invoice Generator  --------------> \n",
            " Input 1 To print particular Invoice \n",
            " Input 2 To Print list of all Invoices\n",
            "Enter your Input : 2\n"
          ]
        }
      ]
    },
    {
      "cell_type": "code",
      "metadata": {
        "colab": {
          "base_uri": "https://localhost:8080/"
        },
        "id": "n1bkB_3eaivr",
        "outputId": "fa5cb706-a014-4fac-ea25-3823aaa6a070"
      },
      "source": [
        "if choice == 1:\n",
        "  #Printing particular Invoice\n",
        "  invoice = input(\"Enter Invoice Number! : \")\n",
        "  if invoice not in Sales.keys():\n",
        "   print(invoice +\"Id  Invoice Not Found!\")\n",
        "  else:\n",
        "   our_invoice = Sales[invoice]\n",
        "   print(\"ID: \",invoice)\n",
        "   print(\"Invoice Date: \",our_invoice['date'])\n",
        "   print(\"Items:- \\n\")\n",
        "   sno=1\n",
        "   inv_total=0\n",
        "   for item in our_invoice['items']:\n",
        "     print(\"S no. \\t \\t Name \\t \\t \\t Quantity \\t \\t \\t  Total \\n\")\n",
        "     print(sno , \"\\t \\t \",item['name'],\" \\t \",item['quantity'],\" \\t \\t \\t \\t  \",item['total'],\"\\n\")\n",
        "     sno +=1\n",
        "     inv_total +=item['total']\n",
        "   print(\"----------------------------------------------------------------------------------------\")\n",
        "   print(\"\\t  \\t  \\t  \\t  \\t  \\t \\t \\t Net Total:\",inv_total)\n",
        "\n",
        "elif choice == 2:\n",
        "  #Printing lit of all invoices\n",
        "\n",
        "  print(\"All invoices are as Follows : \\n\")\n",
        "\n",
        "  for invoice in Sales.keys():\n",
        "    invoice_data = Sales[invoice]\n",
        "    #print(len(invoice_data['items']))\n",
        "    print(\"\\n Invoice ID :\"+invoice+\" \\t \\t \\t \\t \\t \\t Date: \"+invoice_data['date']+\"\\n Total Items: \",len(invoice_data['items']))\n",
        "    print(\"\\n <----------------------------------------------------------------------------------> \\n\")\n",
        "\n",
        "\n",
        "\n",
        "\n",
        "\n",
        "\n",
        "\n",
        "\n"
      ],
      "execution_count": 37,
      "outputs": [
        {
          "output_type": "stream",
          "name": "stdout",
          "text": [
            "All invoices are as Follows : \n",
            "\n",
            "\n",
            " Invoice ID :0 \t \t \t \t \t \t Date: 2021-09-06 06:58:25.570636\n",
            " Total Items:  1\n",
            "\n",
            " <----------------------------------------------------------------------------------> \n",
            "\n"
          ]
        }
      ]
    }
  ]
}