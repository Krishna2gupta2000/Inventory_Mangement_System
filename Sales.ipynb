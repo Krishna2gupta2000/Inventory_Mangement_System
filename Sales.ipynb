{
  "nbformat": 4,
  "nbformat_minor": 2,
  "metadata": {
    "colab": {
      "name": "Sales.ipynb",
      "provenance": [],
      "collapsed_sections": []
    },
    "kernelspec": {
      "name": "python3",
      "display_name": "Python 3"
    },
    "language_info": {
      "name": "python"
    }
  },
  "cells": [
    {
      "cell_type": "markdown",
      "source": [
        "# **IMS**\n",
        "## *Inventory Management System*\n"
      ],
      "metadata": {
        "id": "tvs_4Rv59Isc"
      }
    },
    {
      "cell_type": "markdown",
      "source": [
        " TO Sale PRODUCT from INVENTORY"
      ],
      "metadata": {
        "id": "4VBI7Tkw9WzY"
      }
    },
    {
      "cell_type": "code",
      "execution_count": null,
      "source": [
        "from datetime import *\r\n",
        "\r\n",
        "import json\r\n",
        "\r\n",
        "f= open(\"records.json\",\"r\")\r\n",
        "readata = f.read()\r\n",
        "records = json.loads(readata)\r\n",
        "f.close()\r\n",
        "ids =[]"
      ],
      "outputs": [],
      "metadata": {
        "id": "_YtrAbkb9S5-"
      }
    },
    {
      "cell_type": "code",
      "execution_count": null,
      "source": [
        "print(\"<--------------------Our Catelog!-----------------------------> \\n \\n\")\r\n",
        "for j in records.keys():\r\n",
        "  print(\"Product Id : \",j)\r\n",
        "  i = records[j]\r\n",
        "  print(\"Name : \",i[\"name\"])\r\n",
        "  print(\"Quantity : \",i[\"quantity\"])\r\n",
        "  print(\"Price : \",i[\"Price\"])\r\n",
        "  print(\"Category : \",i[\"Category\"])\r\n",
        "  print(\"Weight : \",i[\"Weight\"])\r\n",
        "  print(\"\\n <--------------------------------------------------------------------> \\n\")\r\n",
        "  "
      ],
      "outputs": [],
      "metadata": {
        "id": "pPbhtrsh9h7o"
      }
    },
    {
      "cell_type": "code",
      "execution_count": 4,
      "source": [
        "nsell = int(input(\"How many product you want to buy! : \"))\r\n"
      ],
      "outputs": [
        {
          "output_type": "stream",
          "name": "stdout",
          "text": [
            "How many product you want to buy! : 1\n"
          ]
        }
      ],
      "metadata": {
        "colab": {
          "base_uri": "https://localhost:8080/"
        },
        "id": "KYRC6cWj-ysp",
        "outputId": "4248c420-85bd-4f4c-fcb4-72e7d983a559"
      }
    },
    {
      "cell_type": "code",
      "execution_count": 5,
      "source": [
        "\r\n",
        "for i in range(nsell):\r\n",
        "  id = input(\"Enter the \"+str(i+1)+\"th Product Id! \")\r\n",
        "  if id not in records:\r\n",
        "    print(\"Invalid Id! or Product not Found\")\r\n",
        "  else :\r\n",
        "    ids.append(id)\r\n",
        "\r\n"
      ],
      "outputs": [
        {
          "output_type": "stream",
          "name": "stdout",
          "text": [
            "Enter the 1th Product Id! 1032\n"
          ]
        },
        {
          "output_type": "execute_result",
          "data": {
            "text/plain": [
              "['1032']"
            ]
          },
          "metadata": {},
          "execution_count": 5
        }
      ],
      "metadata": {
        "colab": {
          "base_uri": "https://localhost:8080/"
        },
        "id": "0NQegF7T_50-",
        "outputId": "283ab45d-c513-4f52-c120-57b6d6b3024d"
      }
    },
    {
      "cell_type": "code",
      "execution_count": 13,
      "source": [
        "c_sale = []\r\n"
      ],
      "outputs": [],
      "metadata": {
        "id": "7FRPA0_kPhNl"
      }
    },
    {
      "cell_type": "code",
      "execution_count": 14,
      "source": [
        "for item in ids:\r\n",
        "  n = int(input(\"How many Quantity \"+records[item]['name']+\"  you want to buy : \"))\r\n",
        "  if records[item]['quantity'] < n:\r\n",
        "    print(\"Invalid Quatity or Out of Stock \\n Try lesser value next time!\")\r\n",
        "    continue\r\n",
        "  pp = records[item]['Price']*n\r\n",
        "  choice = input(\"Do you want to buy \"+str(n)+\" \"+records[item]['name']+\" for INR \"+str(pp)+\" \\n Say Y/N : \")\r\n",
        "  if(choice.lower() == \"n\"):\r\n",
        "    print(\"Your this Cart product is Removed!\")\r\n",
        "    continue\r\n",
        "  records[item]['quantity'] -= n\r\n",
        "  print(\"You bought \",n,\" \",records[item]['name'],\"for INR\",pp,\" Successfully\")\r\n",
        "  print(\"\\n <--------------------------------------------------------------------> \\n\")\r\n",
        "  c_sale.append({\"name\":records[item]['name'],\"quantity\":n,\"total\":pp})\r\n",
        "\r\n",
        "\r\n",
        "\r\n",
        "sales_reader_file = open(\"Sales.json\",\"r\")\r\n",
        "sales_reader = json.loads(sales_reader_file.read())\r\n",
        "sales_reader_file.close()\r\n",
        "saver = open(\"Sales.json\",\"w\")\r\n",
        "sales_len = len(sales_reader)\r\n",
        "\r\n",
        "sales_reader[str(sales_len)]={\"date\":str(datetime.now()),\"items\":c_sale}\r\n",
        "sjson = json.dumps(sales_reader)\r\n",
        "saver.write(sjson)\r\n",
        "saver.close()\r\n",
        "\r\n",
        "\r\n",
        "  \r\n",
        "\r\n",
        "\r\n",
        "     "
      ],
      "outputs": [
        {
          "output_type": "stream",
          "name": "stdout",
          "text": [
            "How many Quantity you want to buy : 0\n",
            "Do you want to buy 0 Classmate Pro blue for INR 0.0 \n",
            " Say Y/Ny\n",
            "You bought  0   Classmate Pro blue for INR 0.0  Successfully\n",
            "\n",
            " <--------------------------------------------------------------------> \n",
            "\n"
          ]
        }
      ],
      "metadata": {
        "id": "SGAhkqiWMW5t",
        "colab": {
          "base_uri": "https://localhost:8080/"
        },
        "outputId": "9682245f-22a1-4d55-e66d-200a5dbd7d56"
      }
    },
    {
      "cell_type": "code",
      "execution_count": null,
      "source": [],
      "outputs": [],
      "metadata": {
        "id": "6d4KNNvb6wCp"
      }
    },
    {
      "cell_type": "code",
      "execution_count": null,
      "source": [],
      "outputs": [],
      "metadata": {
        "id": "AooZ9d7r6yCb"
      }
    }
  ]
}